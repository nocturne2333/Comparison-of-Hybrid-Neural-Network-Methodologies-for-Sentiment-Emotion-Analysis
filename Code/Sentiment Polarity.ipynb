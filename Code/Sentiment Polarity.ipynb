{
 "cells": [
  {
   "cell_type": "code",
   "execution_count": 1,
   "metadata": {
    "colab": {
     "base_uri": "https://localhost:8080/",
     "height": 121
    },
    "colab_type": "code",
    "id": "H6WYJkF8lnH7",
    "outputId": "f98a59d9-43e0-4c76-ee59-f51808c3c708"
   },
   "outputs": [
    {
     "name": "stdout",
     "output_type": "stream",
     "text": [
      "Go to this URL in a browser: https://accounts.google.com/o/oauth2/auth?client_id=947318989803-6bn6qk8qdgf4n4g3pfee6491hc0brc4i.apps.googleusercontent.com&redirect_uri=urn%3aietf%3awg%3aoauth%3a2.0%3aoob&response_type=code&scope=email%20https%3a%2f%2fwww.googleapis.com%2fauth%2fdocs.test%20https%3a%2f%2fwww.googleapis.com%2fauth%2fdrive%20https%3a%2f%2fwww.googleapis.com%2fauth%2fdrive.photos.readonly%20https%3a%2f%2fwww.googleapis.com%2fauth%2fpeopleapi.readonly\n",
      "\n",
      "Enter your authorization code:\n",
      "··········\n",
      "Mounted at /content/drive/\n"
     ]
    }
   ],
   "source": [
    "from google.colab import drive\n",
    "import os\n",
    "drive.mount('/content/drive/')\n",
    "os.chdir('/content/drive/My Drive/')"
   ]
  },
  {
   "cell_type": "code",
   "execution_count": 0,
   "metadata": {
    "colab": {},
    "colab_type": "code",
    "id": "ZjEGksr_loZE"
   },
   "outputs": [],
   "source": [
    "import pandas as pd\n",
    "data = pd.read_csv('/content/drive/My Drive/August01_Tweets_Final.csv')"
   ]
  },
  {
   "cell_type": "code",
   "execution_count": 3,
   "metadata": {
    "colab": {
     "base_uri": "https://localhost:8080/",
     "height": 101
    },
    "colab_type": "code",
    "id": "jQiI29gvlrS-",
    "outputId": "48b455b6-69eb-4d95-92c1-30f2ea95399f"
   },
   "outputs": [
    {
     "name": "stdout",
     "output_type": "stream",
     "text": [
      "Collecting vaderSentiment\n",
      "\u001b[?25l  Downloading https://files.pythonhosted.org/packages/44/a3/1218a3b5651dbcba1699101c84e5c84c36cbba360d9dbf29f2ff18482982/vaderSentiment-3.3.1-py2.py3-none-any.whl (125kB)\n",
      "\r",
      "\u001b[K     |██▋                             | 10kB 19.4MB/s eta 0:00:01\r",
      "\u001b[K     |█████▏                          | 20kB 1.8MB/s eta 0:00:01\r",
      "\u001b[K     |███████▉                        | 30kB 2.3MB/s eta 0:00:01\r",
      "\u001b[K     |██████████▍                     | 40kB 1.7MB/s eta 0:00:01\r",
      "\u001b[K     |█████████████                   | 51kB 1.9MB/s eta 0:00:01\r",
      "\u001b[K     |███████████████▋                | 61kB 2.2MB/s eta 0:00:01\r",
      "\u001b[K     |██████████████████▎             | 71kB 2.4MB/s eta 0:00:01\r",
      "\u001b[K     |████████████████████▉           | 81kB 2.6MB/s eta 0:00:01\r",
      "\u001b[K     |███████████████████████▍        | 92kB 2.9MB/s eta 0:00:01\r",
      "\u001b[K     |██████████████████████████      | 102kB 2.8MB/s eta 0:00:01\r",
      "\u001b[K     |████████████████████████████▋   | 112kB 2.8MB/s eta 0:00:01\r",
      "\u001b[K     |███████████████████████████████▎| 122kB 2.8MB/s eta 0:00:01\r",
      "\u001b[K     |████████████████████████████████| 133kB 2.8MB/s \n",
      "\u001b[?25hInstalling collected packages: vaderSentiment\n",
      "Successfully installed vaderSentiment-3.3.1\n"
     ]
    }
   ],
   "source": [
    "!pip install vaderSentiment\n",
    "import pandas as pd\n",
    "from vaderSentiment.vaderSentiment import SentimentIntensityAnalyzer\n",
    "import matplotlib.pyplot as plt"
   ]
  },
  {
   "cell_type": "code",
   "execution_count": 0,
   "metadata": {
    "colab": {},
    "colab_type": "code",
    "id": "wkaimVoIluM5"
   },
   "outputs": [],
   "source": [
    "import operator"
   ]
  },
  {
   "cell_type": "code",
   "execution_count": 5,
   "metadata": {
    "colab": {
     "base_uri": "https://localhost:8080/",
     "height": 713
    },
    "colab_type": "code",
    "id": "Kiptz8IslwzZ",
    "outputId": "07b44f88-4658-4a41-96ef-5e20873dd55d"
   },
   "outputs": [
    {
     "name": "stdout",
     "output_type": "stream",
     "text": [
      "0        {'neg': 0.0, 'neu': 1.0, 'pos': 0.0, 'compound...\n",
      "1        {'neg': 0.0, 'neu': 0.675, 'pos': 0.325, 'comp...\n",
      "2        {'neg': 0.0, 'neu': 1.0, 'pos': 0.0, 'compound...\n",
      "3        {'neg': 0.0, 'neu': 0.868, 'pos': 0.132, 'comp...\n",
      "4        {'neg': 0.0, 'neu': 1.0, 'pos': 0.0, 'compound...\n",
      "                               ...                        \n",
      "41287    {'neg': 0.235, 'neu': 0.765, 'pos': 0.0, 'comp...\n",
      "41288    {'neg': 0.0, 'neu': 0.786, 'pos': 0.214, 'comp...\n",
      "41289    {'neg': 0.0, 'neu': 0.897, 'pos': 0.103, 'comp...\n",
      "41290    {'neg': 0.0, 'neu': 0.629, 'pos': 0.371, 'comp...\n",
      "41291    {'neg': 0.0, 'neu': 0.711, 'pos': 0.289, 'comp...\n",
      "Length: 41292, dtype: object\n"
     ]
    },
    {
     "data": {
      "text/html": [
       "<div>\n",
       "<style scoped>\n",
       "    .dataframe tbody tr th:only-of-type {\n",
       "        vertical-align: middle;\n",
       "    }\n",
       "\n",
       "    .dataframe tbody tr th {\n",
       "        vertical-align: top;\n",
       "    }\n",
       "\n",
       "    .dataframe thead th {\n",
       "        text-align: right;\n",
       "    }\n",
       "</style>\n",
       "<table border=\"1\" class=\"dataframe\">\n",
       "  <thead>\n",
       "    <tr style=\"text-align: right;\">\n",
       "      <th></th>\n",
       "      <th>created_at</th>\n",
       "      <th>hashtags</th>\n",
       "      <th>tweetid</th>\n",
       "      <th>lang</th>\n",
       "      <th>tweet</th>\n",
       "      <th>userid</th>\n",
       "      <th>polarity</th>\n",
       "    </tr>\n",
       "  </thead>\n",
       "  <tbody>\n",
       "    <tr>\n",
       "      <th>0</th>\n",
       "      <td>Thu Aug 01 15:00:00 +0000 2019</td>\n",
       "      <td>ThursdayThoughts</td>\n",
       "      <td>1156942663792451587</td>\n",
       "      <td>en</td>\n",
       "      <td>Kids need to see models of those living a bala...</td>\n",
       "      <td>1058185154726948865</td>\n",
       "      <td>{'neg': 0.0, 'neu': 1.0, 'pos': 0.0, 'compound...</td>\n",
       "    </tr>\n",
       "    <tr>\n",
       "      <th>1</th>\n",
       "      <td>Thu Aug 01 15:00:00 +0000 2019</td>\n",
       "      <td>Joke,Humour,Elf,ElfJokes</td>\n",
       "      <td>1156942663792451586</td>\n",
       "      <td>en</td>\n",
       "      <td>What’s do you call Santa’s singing elves? Wrap...</td>\n",
       "      <td>977120954802475008</td>\n",
       "      <td>{'neg': 0.0, 'neu': 0.675, 'pos': 0.325, 'comp...</td>\n",
       "    </tr>\n",
       "    <tr>\n",
       "      <th>2</th>\n",
       "      <td>Thu Aug 01 15:00:00 +0000 2019</td>\n",
       "      <td>CarFromJapan</td>\n",
       "      <td>1156942663809032194</td>\n",
       "      <td>en</td>\n",
       "      <td>5# Engine Vibration Cause: Car Axle\\nYou can g...</td>\n",
       "      <td>2744724846</td>\n",
       "      <td>{'neg': 0.0, 'neu': 1.0, 'pos': 0.0, 'compound...</td>\n",
       "    </tr>\n",
       "    <tr>\n",
       "      <th>3</th>\n",
       "      <td>Thu Aug 01 15:00:00 +0000 2019</td>\n",
       "      <td>Children,earlylanguage</td>\n",
       "      <td>1156942663788032005</td>\n",
       "      <td>en</td>\n",
       "      <td>Did you know? #Children with good #earlylangua...</td>\n",
       "      <td>1131185733899882496</td>\n",
       "      <td>{'neg': 0.0, 'neu': 0.868, 'pos': 0.132, 'comp...</td>\n",
       "    </tr>\n",
       "    <tr>\n",
       "      <th>4</th>\n",
       "      <td>Thu Aug 01 15:00:01 +0000 2019</td>\n",
       "      <td>gviewsyoutube</td>\n",
       "      <td>1156942667973980161</td>\n",
       "      <td>en</td>\n",
       "      <td>Another review!! @gviewsyoutube #gviewsyoutube...</td>\n",
       "      <td>812135824913498113</td>\n",
       "      <td>{'neg': 0.0, 'neu': 1.0, 'pos': 0.0, 'compound...</td>\n",
       "    </tr>\n",
       "    <tr>\n",
       "      <th>5</th>\n",
       "      <td>Thu Aug 01 15:00:01 +0000 2019</td>\n",
       "      <td>SmartModel</td>\n",
       "      <td>1156942667986755586</td>\n",
       "      <td>en</td>\n",
       "      <td>As Charles is a bit thick, don't fancy his cha...</td>\n",
       "      <td>352615777</td>\n",
       "      <td>{'neg': 0.137, 'neu': 0.863, 'pos': 0.0, 'comp...</td>\n",
       "    </tr>\n",
       "    <tr>\n",
       "      <th>6</th>\n",
       "      <td>Thu Aug 01 15:00:01 +0000 2019</td>\n",
       "      <td>BONADrinks</td>\n",
       "      <td>1156942667982487552</td>\n",
       "      <td>en</td>\n",
       "      <td>Enjoy this easy to make infused gin and tonic:...</td>\n",
       "      <td>297363238</td>\n",
       "      <td>{'neg': 0.0, 'neu': 0.621, 'pos': 0.379, 'comp...</td>\n",
       "    </tr>\n",
       "    <tr>\n",
       "      <th>7</th>\n",
       "      <td>Thu Aug 01 15:00:01 +0000 2019</td>\n",
       "      <td>CHUU,츄</td>\n",
       "      <td>1156942667982336002</td>\n",
       "      <td>en</td>\n",
       "      <td>190727 #CHUU #츄\\n© first apple https://t.co/Ii...</td>\n",
       "      <td>869892069099044864</td>\n",
       "      <td>{'neg': 0.0, 'neu': 1.0, 'pos': 0.0, 'compound...</td>\n",
       "    </tr>\n",
       "    <tr>\n",
       "      <th>8</th>\n",
       "      <td>Thu Aug 01 15:00:01 +0000 2019</td>\n",
       "      <td>Climatechange</td>\n",
       "      <td>1156942667999170561</td>\n",
       "      <td>en</td>\n",
       "      <td>#Climatechange is taking its first victims: po...</td>\n",
       "      <td>1017827828602232832</td>\n",
       "      <td>{'neg': 0.223, 'neu': 0.777, 'pos': 0.0, 'comp...</td>\n",
       "    </tr>\n",
       "    <tr>\n",
       "      <th>9</th>\n",
       "      <td>Thu Aug 01 15:00:01 +0000 2019</td>\n",
       "      <td>NastyGalsDoItBetter</td>\n",
       "      <td>1156942668011835392</td>\n",
       "      <td>en</td>\n",
       "      <td>When you casually (purposely) come across an e...</td>\n",
       "      <td>19030283</td>\n",
       "      <td>{'neg': 0.0, 'neu': 0.841, 'pos': 0.159, 'comp...</td>\n",
       "    </tr>\n",
       "  </tbody>\n",
       "</table>\n",
       "</div>"
      ],
      "text/plain": [
       "                       created_at  ...                                           polarity\n",
       "0  Thu Aug 01 15:00:00 +0000 2019  ...  {'neg': 0.0, 'neu': 1.0, 'pos': 0.0, 'compound...\n",
       "1  Thu Aug 01 15:00:00 +0000 2019  ...  {'neg': 0.0, 'neu': 0.675, 'pos': 0.325, 'comp...\n",
       "2  Thu Aug 01 15:00:00 +0000 2019  ...  {'neg': 0.0, 'neu': 1.0, 'pos': 0.0, 'compound...\n",
       "3  Thu Aug 01 15:00:00 +0000 2019  ...  {'neg': 0.0, 'neu': 0.868, 'pos': 0.132, 'comp...\n",
       "4  Thu Aug 01 15:00:01 +0000 2019  ...  {'neg': 0.0, 'neu': 1.0, 'pos': 0.0, 'compound...\n",
       "5  Thu Aug 01 15:00:01 +0000 2019  ...  {'neg': 0.137, 'neu': 0.863, 'pos': 0.0, 'comp...\n",
       "6  Thu Aug 01 15:00:01 +0000 2019  ...  {'neg': 0.0, 'neu': 0.621, 'pos': 0.379, 'comp...\n",
       "7  Thu Aug 01 15:00:01 +0000 2019  ...  {'neg': 0.0, 'neu': 1.0, 'pos': 0.0, 'compound...\n",
       "8  Thu Aug 01 15:00:01 +0000 2019  ...  {'neg': 0.223, 'neu': 0.777, 'pos': 0.0, 'comp...\n",
       "9  Thu Aug 01 15:00:01 +0000 2019  ...  {'neg': 0.0, 'neu': 0.841, 'pos': 0.159, 'comp...\n",
       "\n",
       "[10 rows x 7 columns]"
      ]
     },
     "metadata": {
      "tags": []
     },
     "output_type": "display_data"
    }
   ],
   "source": [
    "sentiment_id = SentimentIntensityAnalyzer()\n",
    "\n",
    "\n",
    "lists = []\n",
    "\n",
    "for index, row in data.iterrows():\n",
    "  sentiment_score = sentiment_id.polarity_scores(row[\"tweet\"])\n",
    "  lists.append(sentiment_score)\n",
    "  \n",
    "se = pd.Series(lists)\n",
    "print(se)\n",
    "#max_score = max(se.iteritems(), key=operator.itemgetter(1))[1]\n",
    "data['polarity'] = se.values\n",
    "\n",
    "display(data.head(10))"
   ]
  },
  {
   "cell_type": "code",
   "execution_count": 0,
   "metadata": {
    "colab": {},
    "colab_type": "code",
    "id": "NNAWxVNTl3Dp"
   },
   "outputs": [],
   "source": [
    "sentiment_id = SentimentIntensityAnalyzer()"
   ]
  },
  {
   "cell_type": "code",
   "execution_count": 7,
   "metadata": {
    "colab": {
     "base_uri": "https://localhost:8080/",
     "height": 545
    },
    "colab_type": "code",
    "id": "mE3qepa8l5p_",
    "outputId": "0c3c1917-41d8-4e33-f648-ffb94a696c87"
   },
   "outputs": [
    {
     "name": "stdout",
     "output_type": "stream",
     "text": [
      "0        0.0000\n",
      "1        0.6486\n",
      "2        0.0000\n",
      "3        0.4404\n",
      "4        0.0000\n",
      "          ...  \n",
      "41287   -0.8074\n",
      "41288    0.4588\n",
      "41289    0.1280\n",
      "41290    0.6498\n",
      "41291    0.7845\n",
      "Length: 41292, dtype: float64\n"
     ]
    },
    {
     "data": {
      "text/html": [
       "<div>\n",
       "<style scoped>\n",
       "    .dataframe tbody tr th:only-of-type {\n",
       "        vertical-align: middle;\n",
       "    }\n",
       "\n",
       "    .dataframe tbody tr th {\n",
       "        vertical-align: top;\n",
       "    }\n",
       "\n",
       "    .dataframe thead th {\n",
       "        text-align: right;\n",
       "    }\n",
       "</style>\n",
       "<table border=\"1\" class=\"dataframe\">\n",
       "  <thead>\n",
       "    <tr style=\"text-align: right;\">\n",
       "      <th></th>\n",
       "      <th>created_at</th>\n",
       "      <th>hashtags</th>\n",
       "      <th>tweetid</th>\n",
       "      <th>lang</th>\n",
       "      <th>tweet</th>\n",
       "      <th>userid</th>\n",
       "      <th>polarity</th>\n",
       "    </tr>\n",
       "  </thead>\n",
       "  <tbody>\n",
       "    <tr>\n",
       "      <th>0</th>\n",
       "      <td>Thu Aug 01 15:00:00 +0000 2019</td>\n",
       "      <td>ThursdayThoughts</td>\n",
       "      <td>1156942663792451587</td>\n",
       "      <td>en</td>\n",
       "      <td>Kids need to see models of those living a bala...</td>\n",
       "      <td>1058185154726948865</td>\n",
       "      <td>0.0000</td>\n",
       "    </tr>\n",
       "    <tr>\n",
       "      <th>1</th>\n",
       "      <td>Thu Aug 01 15:00:00 +0000 2019</td>\n",
       "      <td>Joke,Humour,Elf,ElfJokes</td>\n",
       "      <td>1156942663792451586</td>\n",
       "      <td>en</td>\n",
       "      <td>What’s do you call Santa’s singing elves? Wrap...</td>\n",
       "      <td>977120954802475008</td>\n",
       "      <td>0.6486</td>\n",
       "    </tr>\n",
       "    <tr>\n",
       "      <th>2</th>\n",
       "      <td>Thu Aug 01 15:00:00 +0000 2019</td>\n",
       "      <td>CarFromJapan</td>\n",
       "      <td>1156942663809032194</td>\n",
       "      <td>en</td>\n",
       "      <td>5# Engine Vibration Cause: Car Axle\\nYou can g...</td>\n",
       "      <td>2744724846</td>\n",
       "      <td>0.0000</td>\n",
       "    </tr>\n",
       "    <tr>\n",
       "      <th>3</th>\n",
       "      <td>Thu Aug 01 15:00:00 +0000 2019</td>\n",
       "      <td>Children,earlylanguage</td>\n",
       "      <td>1156942663788032005</td>\n",
       "      <td>en</td>\n",
       "      <td>Did you know? #Children with good #earlylangua...</td>\n",
       "      <td>1131185733899882496</td>\n",
       "      <td>0.4404</td>\n",
       "    </tr>\n",
       "    <tr>\n",
       "      <th>4</th>\n",
       "      <td>Thu Aug 01 15:00:01 +0000 2019</td>\n",
       "      <td>gviewsyoutube</td>\n",
       "      <td>1156942667973980161</td>\n",
       "      <td>en</td>\n",
       "      <td>Another review!! @gviewsyoutube #gviewsyoutube...</td>\n",
       "      <td>812135824913498113</td>\n",
       "      <td>0.0000</td>\n",
       "    </tr>\n",
       "    <tr>\n",
       "      <th>5</th>\n",
       "      <td>Thu Aug 01 15:00:01 +0000 2019</td>\n",
       "      <td>SmartModel</td>\n",
       "      <td>1156942667986755586</td>\n",
       "      <td>en</td>\n",
       "      <td>As Charles is a bit thick, don't fancy his cha...</td>\n",
       "      <td>352615777</td>\n",
       "      <td>-0.1511</td>\n",
       "    </tr>\n",
       "    <tr>\n",
       "      <th>6</th>\n",
       "      <td>Thu Aug 01 15:00:01 +0000 2019</td>\n",
       "      <td>BONADrinks</td>\n",
       "      <td>1156942667982487552</td>\n",
       "      <td>en</td>\n",
       "      <td>Enjoy this easy to make infused gin and tonic:...</td>\n",
       "      <td>297363238</td>\n",
       "      <td>0.7269</td>\n",
       "    </tr>\n",
       "    <tr>\n",
       "      <th>7</th>\n",
       "      <td>Thu Aug 01 15:00:01 +0000 2019</td>\n",
       "      <td>CHUU,츄</td>\n",
       "      <td>1156942667982336002</td>\n",
       "      <td>en</td>\n",
       "      <td>190727 #CHUU #츄\\n© first apple https://t.co/Ii...</td>\n",
       "      <td>869892069099044864</td>\n",
       "      <td>0.0000</td>\n",
       "    </tr>\n",
       "    <tr>\n",
       "      <th>8</th>\n",
       "      <td>Thu Aug 01 15:00:01 +0000 2019</td>\n",
       "      <td>Climatechange</td>\n",
       "      <td>1156942667999170561</td>\n",
       "      <td>en</td>\n",
       "      <td>#Climatechange is taking its first victims: po...</td>\n",
       "      <td>1017827828602232832</td>\n",
       "      <td>-0.3182</td>\n",
       "    </tr>\n",
       "    <tr>\n",
       "      <th>9</th>\n",
       "      <td>Thu Aug 01 15:00:01 +0000 2019</td>\n",
       "      <td>NastyGalsDoItBetter</td>\n",
       "      <td>1156942668011835392</td>\n",
       "      <td>en</td>\n",
       "      <td>When you casually (purposely) come across an e...</td>\n",
       "      <td>19030283</td>\n",
       "      <td>0.1779</td>\n",
       "    </tr>\n",
       "  </tbody>\n",
       "</table>\n",
       "</div>"
      ],
      "text/plain": [
       "                       created_at  ... polarity\n",
       "0  Thu Aug 01 15:00:00 +0000 2019  ...   0.0000\n",
       "1  Thu Aug 01 15:00:00 +0000 2019  ...   0.6486\n",
       "2  Thu Aug 01 15:00:00 +0000 2019  ...   0.0000\n",
       "3  Thu Aug 01 15:00:00 +0000 2019  ...   0.4404\n",
       "4  Thu Aug 01 15:00:01 +0000 2019  ...   0.0000\n",
       "5  Thu Aug 01 15:00:01 +0000 2019  ...  -0.1511\n",
       "6  Thu Aug 01 15:00:01 +0000 2019  ...   0.7269\n",
       "7  Thu Aug 01 15:00:01 +0000 2019  ...   0.0000\n",
       "8  Thu Aug 01 15:00:01 +0000 2019  ...  -0.3182\n",
       "9  Thu Aug 01 15:00:01 +0000 2019  ...   0.1779\n",
       "\n",
       "[10 rows x 7 columns]"
      ]
     },
     "metadata": {
      "tags": []
     },
     "output_type": "display_data"
    }
   ],
   "source": [
    "lists = []\n",
    "\n",
    "for index, row in data.iterrows():\n",
    "  sentiment_score = sentiment_id.polarity_scores(row[\"tweet\"])\n",
    "  lists.append(sentiment_score[\"compound\"])\n",
    "  \n",
    "se = pd.Series(lists)\n",
    "print(se)\n",
    "#max_score = max(se.iteritems(), key=operator.itemgetter(1))[1]\n",
    "data['polarity'] = se.values\n",
    "\n",
    "display(data.head(10))"
   ]
  },
  {
   "cell_type": "code",
   "execution_count": 0,
   "metadata": {
    "colab": {},
    "colab_type": "code",
    "id": "oQyA2qxxl6av"
   },
   "outputs": [],
   "source": [
    "X = data['tweet'].values\n",
    "Y = data['polarity'].values#compound"
   ]
  },
  {
   "cell_type": "code",
   "execution_count": 9,
   "metadata": {
    "colab": {
     "base_uri": "https://localhost:8080/",
     "height": 34
    },
    "colab_type": "code",
    "id": "j-c6HzwUl9uX",
    "outputId": "b0fb377b-a26d-4bd7-a898-fc6732dae7f2"
   },
   "outputs": [
    {
     "name": "stderr",
     "output_type": "stream",
     "text": [
      "Using TensorFlow backend.\n"
     ]
    }
   ],
   "source": [
    "from keras.preprocessing.text import Tokenizer\n",
    "from keras.preprocessing.sequence import pad_sequences"
   ]
  },
  {
   "cell_type": "code",
   "execution_count": 0,
   "metadata": {
    "colab": {},
    "colab_type": "code",
    "id": "WMNBp5pWmCgC"
   },
   "outputs": [],
   "source": [
    "from sklearn.model_selection import train_test_split"
   ]
  },
  {
   "cell_type": "code",
   "execution_count": 0,
   "metadata": {
    "colab": {},
    "colab_type": "code",
    "id": "YnO-Fcb7mFAH"
   },
   "outputs": [],
   "source": [
    "tk = Tokenizer(lower = True)\n",
    "tk.fit_on_texts(X)\n",
    "X_seq = tk.texts_to_sequences(X)\n",
    "X_pad = pad_sequences(X_seq, maxlen = 100, padding = 'post')"
   ]
  },
  {
   "cell_type": "code",
   "execution_count": 0,
   "metadata": {
    "colab": {},
    "colab_type": "code",
    "id": "PqseReiymJRq"
   },
   "outputs": [],
   "source": [
    "X_train, X_test, y_train, y_test = train_test_split(X_pad, Y, test_size = 0.2, random_state = 0)"
   ]
  },
  {
   "cell_type": "code",
   "execution_count": 0,
   "metadata": {
    "colab": {},
    "colab_type": "code",
    "id": "BK3xsHF-mJbR"
   },
   "outputs": [],
   "source": [
    "import numpy as np"
   ]
  },
  {
   "cell_type": "code",
   "execution_count": 14,
   "metadata": {
    "colab": {
     "base_uri": "https://localhost:8080/",
     "height": 34
    },
    "colab_type": "code",
    "id": "3mK1Azr3mOOY",
    "outputId": "73b4e8e0-8e7d-4b8e-f4bd-306550403383"
   },
   "outputs": [
    {
     "name": "stdout",
     "output_type": "stream",
     "text": [
      "Found 100 word vectors.\n"
     ]
    }
   ],
   "source": [
    "f = open('/content/drive/My Drive/polarity_scores/glove.6B.100d.sample.txt')\n",
    "embedd_index = {}\n",
    "for line in f:\n",
    "    val = line.split()\n",
    "    word = val[0]\n",
    "    coff = np.asarray(val[1:],dtype = 'float')\n",
    "    embedd_index[word] = coff\n",
    "\n",
    "f.close()\n",
    "print('Found %s word vectors.' % len(embedd_index))"
   ]
  },
  {
   "cell_type": "code",
   "execution_count": 0,
   "metadata": {
    "colab": {},
    "colab_type": "code",
    "id": "a2EgoHQumTxc"
   },
   "outputs": [],
   "source": [
    "index_of_words = tk.word_index\n",
    "embed_num_dims= 100\n",
    "embedding_matrix = np.zeros((len(index_of_words) + 1, embed_num_dims))\n",
    "\n",
    "tokens = []\n",
    "labels = []\n",
    "\n",
    "for word,i in index_of_words.items():\n",
    "    temp = embedd_index.get(word)\n",
    "    if temp is not None:\n",
    "        embedding_matrix[i] = temp"
   ]
  },
  {
   "cell_type": "code",
   "execution_count": 0,
   "metadata": {
    "colab": {},
    "colab_type": "code",
    "id": "rt94pG5mmWUR"
   },
   "outputs": [],
   "source": [
    "from keras.layers import Dense , Flatten ,Embedding,Input\n",
    "#Embedding layer before the actual BLSTM \n",
    "embedd_layer = Embedding(len(index_of_words) + 1 , embed_num_dims , input_length = 100 , weights = [embedding_matrix])"
   ]
  },
  {
   "cell_type": "code",
   "execution_count": 0,
   "metadata": {
    "colab": {},
    "colab_type": "code",
    "id": "7gNBIJDwmaJh"
   },
   "outputs": [],
   "source": [
    "batch_size = 64\n",
    "X_train1 = X_train[batch_size:]\n",
    "y_train1 = y_train[batch_size:]\n",
    "X_valid = X_train[:batch_size]\n",
    "y_valid = y_train[:batch_size]"
   ]
  },
  {
   "cell_type": "code",
   "execution_count": 0,
   "metadata": {
    "colab": {},
    "colab_type": "code",
    "id": "FfaiGcyFmc8R"
   },
   "outputs": [],
   "source": [
    "from keras.models import Sequential\n",
    "from keras.layers import Embedding, LSTM, Dense, Dropout\n",
    "from keras.layers import Bidirectional, GlobalMaxPooling1D\n",
    "vocabulary_size = len(tk.word_counts.keys())+1\n",
    "max_words = 100\n",
    "embedding_size = 32\n",
    "model = Sequential()\n",
    "model.add(embedd_layer)\n",
    "model.add(Bidirectional(LSTM(30 , return_sequences = True , dropout = 0.1 , recurrent_dropout = 0.1)))\n",
    "model.add(GlobalMaxPooling1D())\n",
    "model.add(Dense(30,activation = 'relu'))\n",
    "model.add(Dropout(0.2))\n",
    "model.add(Dense(1,activation = 'sigmoid'))\n",
    "\n",
    "from keras import metrics\n",
    "\n",
    "model.compile(loss = 'mean_squared_error',\n",
    "              optimizer = 'sgd',\n",
    "              metrics=[metrics.mean_squared_error])"
   ]
  },
  {
   "cell_type": "code",
   "execution_count": 19,
   "metadata": {
    "colab": {
     "base_uri": "https://localhost:8080/",
     "height": 423
    },
    "colab_type": "code",
    "id": "lH4BnqZ9mhNW",
    "outputId": "29d75c03-b15d-41b8-c483-2237d6178471"
   },
   "outputs": [
    {
     "name": "stderr",
     "output_type": "stream",
     "text": [
      "/usr/local/lib/python3.6/dist-packages/tensorflow/python/framework/indexed_slices.py:434: UserWarning: Converting sparse IndexedSlices to a dense Tensor of unknown shape. This may consume a large amount of memory.\n",
      "  \"Converting sparse IndexedSlices to a dense Tensor of unknown shape. \"\n"
     ]
    },
    {
     "name": "stdout",
     "output_type": "stream",
     "text": [
      "Train on 32969 samples, validate on 64 samples\n",
      "Epoch 1/10\n",
      "32969/32969 [==============================] - 97s 3ms/step - loss: 0.1940 - mean_squared_error: 0.1940 - val_loss: 0.1566 - val_mean_squared_error: 0.1566\n",
      "Epoch 2/10\n",
      "32969/32969 [==============================] - 94s 3ms/step - loss: 0.1635 - mean_squared_error: 0.1635 - val_loss: 0.1518 - val_mean_squared_error: 0.1518\n",
      "Epoch 3/10\n",
      "32969/32969 [==============================] - 94s 3ms/step - loss: 0.1621 - mean_squared_error: 0.1621 - val_loss: 0.1506 - val_mean_squared_error: 0.1506\n",
      "Epoch 4/10\n",
      "32969/32969 [==============================] - 94s 3ms/step - loss: 0.1614 - mean_squared_error: 0.1614 - val_loss: 0.1499 - val_mean_squared_error: 0.1499\n",
      "Epoch 5/10\n",
      "32969/32969 [==============================] - 94s 3ms/step - loss: 0.1609 - mean_squared_error: 0.1609 - val_loss: 0.1493 - val_mean_squared_error: 0.1493\n",
      "Epoch 6/10\n",
      "32969/32969 [==============================] - 94s 3ms/step - loss: 0.1604 - mean_squared_error: 0.1604 - val_loss: 0.1487 - val_mean_squared_error: 0.1487\n",
      "Epoch 7/10\n",
      "32969/32969 [==============================] - 92s 3ms/step - loss: 0.1604 - mean_squared_error: 0.1604 - val_loss: 0.1483 - val_mean_squared_error: 0.1483\n",
      "Epoch 8/10\n",
      "32969/32969 [==============================] - 91s 3ms/step - loss: 0.1601 - mean_squared_error: 0.1601 - val_loss: 0.1478 - val_mean_squared_error: 0.1478\n",
      "Epoch 9/10\n",
      "32969/32969 [==============================] - 92s 3ms/step - loss: 0.1597 - mean_squared_error: 0.1597 - val_loss: 0.1475 - val_mean_squared_error: 0.1475\n",
      "Epoch 10/10\n",
      "32969/32969 [==============================] - 94s 3ms/step - loss: 0.1595 - mean_squared_error: 0.1595 - val_loss: 0.1471 - val_mean_squared_error: 0.1471\n"
     ]
    }
   ],
   "source": [
    "history = model.fit(X_train1, y_train1, validation_data = (X_valid, y_valid), batch_size = batch_size, epochs = 10)"
   ]
  },
  {
   "cell_type": "code",
   "execution_count": 0,
   "metadata": {
    "colab": {},
    "colab_type": "code",
    "id": "knhwHoWOmiRi"
   },
   "outputs": [],
   "source": [
    "scores = model.evaluate(X_test, y_test, verbose = 0)"
   ]
  },
  {
   "cell_type": "code",
   "execution_count": 21,
   "metadata": {
    "colab": {
     "base_uri": "https://localhost:8080/",
     "height": 134
    },
    "colab_type": "code",
    "id": "fjzUufZAmkuR",
    "outputId": "234a3456-b4fd-49eb-91cf-f265c5ad8b39"
   },
   "outputs": [
    {
     "name": "stdout",
     "output_type": "stream",
     "text": [
      "[[0.1836083 ]\n",
      " [0.18691158]\n",
      " [0.20030594]\n",
      " ...\n",
      " [0.18569736]\n",
      " [0.19810733]\n",
      " [0.18051955]]\n"
     ]
    }
   ],
   "source": [
    "score_predict = model.predict(X_pad, verbose = 0)\n",
    "print(score_predict)"
   ]
  },
  {
   "cell_type": "code",
   "execution_count": 0,
   "metadata": {
    "colab": {},
    "colab_type": "code",
    "id": "7ltAvrqWn0Lx"
   },
   "outputs": [],
   "source": [
    "# using MAE as loss function\n",
    "from keras.models import Sequential\n",
    "from keras.layers import Embedding, LSTM, Dense, Dropout\n",
    "from keras.layers import Bidirectional, GlobalMaxPooling1D\n",
    "vocabulary_size = len(tk.word_counts.keys())+1\n",
    "max_words = 100\n",
    "embedding_size = 32\n",
    "model = Sequential()\n",
    "model.add(embedd_layer)\n",
    "model.add(Bidirectional(LSTM(30 , return_sequences = True , dropout = 0.1 , recurrent_dropout = 0.1)))\n",
    "model.add(GlobalMaxPooling1D())\n",
    "model.add(Dense(30,activation = 'relu'))\n",
    "model.add(Dropout(0.2))\n",
    "model.add(Dense(1,activation = 'sigmoid'))\n",
    "\n",
    "from keras import metrics\n",
    "\n",
    "model.compile(loss = 'mean_absolute_error',\n",
    "              optimizer = 'sgd',\n",
    "              metrics=[metrics.mae])"
   ]
  },
  {
   "cell_type": "code",
   "execution_count": 23,
   "metadata": {
    "colab": {
     "base_uri": "https://localhost:8080/",
     "height": 423
    },
    "colab_type": "code",
    "id": "NXbarlsgoYf5",
    "outputId": "b206ea88-2a6d-45e2-80fa-294eb63cb2ed"
   },
   "outputs": [
    {
     "name": "stderr",
     "output_type": "stream",
     "text": [
      "/usr/local/lib/python3.6/dist-packages/tensorflow/python/framework/indexed_slices.py:434: UserWarning: Converting sparse IndexedSlices to a dense Tensor of unknown shape. This may consume a large amount of memory.\n",
      "  \"Converting sparse IndexedSlices to a dense Tensor of unknown shape. \"\n"
     ]
    },
    {
     "name": "stdout",
     "output_type": "stream",
     "text": [
      "Train on 32969 samples, validate on 64 samples\n",
      "Epoch 1/10\n",
      "32969/32969 [==============================] - 96s 3ms/step - loss: 0.3686 - mean_absolute_error: 0.3686 - val_loss: 0.3468 - val_mean_absolute_error: 0.3468\n",
      "Epoch 2/10\n",
      "32969/32969 [==============================] - 94s 3ms/step - loss: 0.3327 - mean_absolute_error: 0.3327 - val_loss: 0.3157 - val_mean_absolute_error: 0.3157\n",
      "Epoch 3/10\n",
      "32969/32969 [==============================] - 96s 3ms/step - loss: 0.3200 - mean_absolute_error: 0.3200 - val_loss: 0.3015 - val_mean_absolute_error: 0.3015\n",
      "Epoch 4/10\n",
      "32969/32969 [==============================] - 95s 3ms/step - loss: 0.3147 - mean_absolute_error: 0.3147 - val_loss: 0.2951 - val_mean_absolute_error: 0.2951\n",
      "Epoch 5/10\n",
      "32969/32969 [==============================] - 96s 3ms/step - loss: 0.3119 - mean_absolute_error: 0.3119 - val_loss: 0.2918 - val_mean_absolute_error: 0.2918\n",
      "Epoch 6/10\n",
      "32969/32969 [==============================] - 97s 3ms/step - loss: 0.3100 - mean_absolute_error: 0.3100 - val_loss: 0.2901 - val_mean_absolute_error: 0.2901\n",
      "Epoch 7/10\n",
      "32969/32969 [==============================] - 97s 3ms/step - loss: 0.3092 - mean_absolute_error: 0.3092 - val_loss: 0.2890 - val_mean_absolute_error: 0.2890\n",
      "Epoch 8/10\n",
      "32969/32969 [==============================] - 97s 3ms/step - loss: 0.3084 - mean_absolute_error: 0.3084 - val_loss: 0.2884 - val_mean_absolute_error: 0.2884\n",
      "Epoch 9/10\n",
      "32969/32969 [==============================] - 97s 3ms/step - loss: 0.3079 - mean_absolute_error: 0.3079 - val_loss: 0.2879 - val_mean_absolute_error: 0.2879\n",
      "Epoch 10/10\n",
      "32969/32969 [==============================] - 97s 3ms/step - loss: 0.3073 - mean_absolute_error: 0.3073 - val_loss: 0.2875 - val_mean_absolute_error: 0.2875\n"
     ]
    }
   ],
   "source": [
    "history = model.fit(X_train1, y_train1, validation_data = (X_valid, y_valid), batch_size = batch_size, epochs = 10)"
   ]
  },
  {
   "cell_type": "code",
   "execution_count": 0,
   "metadata": {
    "colab": {},
    "colab_type": "code",
    "id": "zm0KlymBoy8r"
   },
   "outputs": [],
   "source": [
    "scores = model.evaluate(X_test, y_test, verbose = 0)"
   ]
  },
  {
   "cell_type": "code",
   "execution_count": 25,
   "metadata": {
    "colab": {
     "base_uri": "https://localhost:8080/",
     "height": 34
    },
    "colab_type": "code",
    "id": "hgNc1RHsozvY",
    "outputId": "2a06a1be-4ef7-41f1-b580-19315c6af7c1"
   },
   "outputs": [
    {
     "data": {
      "text/plain": [
       "[0.30263453460386325, 0.30263450741767883]"
      ]
     },
     "execution_count": 25,
     "metadata": {
      "tags": []
     },
     "output_type": "execute_result"
    }
   ],
   "source": [
    "scores"
   ]
  },
  {
   "cell_type": "code",
   "execution_count": 26,
   "metadata": {
    "colab": {
     "base_uri": "https://localhost:8080/",
     "height": 134
    },
    "colab_type": "code",
    "id": "WoZytNlnpCWQ",
    "outputId": "7a1672b4-442f-43c1-93d1-95d2c64e9f8e"
   },
   "outputs": [
    {
     "name": "stdout",
     "output_type": "stream",
     "text": [
      "[[0.00507659]\n",
      " [0.00604457]\n",
      " [0.00381699]\n",
      " ...\n",
      " [0.00318243]\n",
      " [0.00334683]\n",
      " [0.00395335]]\n"
     ]
    }
   ],
   "source": [
    "score_predict = model.predict(X_pad, verbose = 0)\n",
    "print(score_predict)"
   ]
  },
  {
   "cell_type": "code",
   "execution_count": 27,
   "metadata": {
    "colab": {
     "base_uri": "https://localhost:8080/",
     "height": 50
    },
    "colab_type": "code",
    "id": "hF61iKxepFM5",
    "outputId": "87a71aa1-b5b7-418d-bfcc-0c959ae50b5f"
   },
   "outputs": [
    {
     "name": "stdout",
     "output_type": "stream",
     "text": [
      "[0.00216109]\n",
      "-0.9934\n"
     ]
    }
   ],
   "source": [
    "score_predict = model.predict(X_test)\n",
    "print(min(score_predict))\n",
    "print(min(y_test))"
   ]
  },
  {
   "cell_type": "code",
   "execution_count": 28,
   "metadata": {
    "colab": {
     "base_uri": "https://localhost:8080/",
     "height": 281
    },
    "colab_type": "code",
    "id": "ZNpv2VgLpKGz",
    "outputId": "ff12eb86-09b2-4c15-e273-34da065960c9"
   },
   "outputs": [
    {
     "data": {
      "image/png": "[encoded data removed]",
      "text/plain": [
       "<Figure size 432x288 with 1 Axes>"
      ]
     },
     "metadata": {
      "needs_background": "light",
      "tags": []
     },
     "output_type": "display_data"
    }
   ],
   "source": [
    "# loss plot for training and validation\n",
    "plt.title('Loss')\n",
    "plt.plot(history.history['loss'], label='train')\n",
    "plt.plot(history.history['val_loss'], label='validation')\n",
    "plt.legend()\n",
    "plt.show()"
   ]
  },
  {
   "cell_type": "code",
   "execution_count": 29,
   "metadata": {
    "colab": {
     "base_uri": "https://localhost:8080/",
     "height": 281
    },
    "colab_type": "code",
    "id": "25o3jDi9pFUi",
    "outputId": "bd6e72f0-07eb-4f2a-d82c-18128d25741b"
   },
   "outputs": [
    {
     "data": {
      "image/png": "[encoded data removed]",
      "text/plain": [
       "<Figure size 432x288 with 1 Axes>"
      ]
     },
     "metadata": {
      "needs_background": "light",
      "tags": []
     },
     "output_type": "display_data"
    }
   ],
   "source": [
    "# MAE plot for training and validation\n",
    "plt.title('Mean Absolute Error')\n",
    "plt.plot(history.history['mean_absolute_error'], label='train')\n",
    "plt.plot(history.history['val_mean_absolute_error'], label='validation')\n",
    "plt.legend()\n",
    "plt.show();"
   ]
  },
  {
   "cell_type": "code",
   "execution_count": 0,
   "metadata": {
    "colab": {},
    "colab_type": "code",
    "id": "-3sOdCjorW02"
   },
   "outputs": [],
   "source": []
  }
 ],
 "metadata": {
  "colab": {
   "name": "x18183379_Consolidated_code.ipynb",
   "provenance": []
  },
  "kernelspec": {
   "display_name": "Python 3",
   "language": "python",
   "name": "python3"
  },
  "language_info": {
   "codemirror_mode": {
    "name": "ipython",
    "version": 3
   },
   "file_extension": ".py",
   "mimetype": "text/x-python",
   "name": "python",
   "nbconvert_exporter": "python",
   "pygments_lexer": "ipython3",
   "version": "3.7.6"
  }
 },
 "nbformat": 4,
 "nbformat_minor": 1
}
